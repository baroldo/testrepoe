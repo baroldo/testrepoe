{
 "cells": [
  {
   "cell_type": "code",
   "execution_count": null,
   "id": "e6a36332",
   "metadata": {},
   "outputs": [],
   "source": [
    "import pandas as pd\n",
    "import re\n",
    "\n",
    "# Example DataFrame\n",
    "df = pd.DataFrame({\n",
    "    'my_column': ['A;B', 'B;C', 'A', 'C;D', 'B', 'M;N', 'O;P', 'A;M', 'a-b; m n', None],\n",
    "    'customer_number': ['123.0', '456.0', '789', 'abc', '12 3', '45-6', '78%9', '?', None, '001.0']\n",
    "})\n",
    "\n",
    "# Split the column by ';' into lists\n",
    "df['my_column_split'] = df['my_column'].str.split(';')\n",
    "\n",
    "# Clean values: strip, capitalize, replace spaces and hyphens with underscores\n",
    "def clean_list(lst):\n",
    "    if not isinstance(lst, list):\n",
    "        return []\n",
    "    return [x.strip().upper().replace(' ', '_').replace('-', '_') for x in lst]\n",
    "\n",
    "df['my_column_split'] = df['my_column_split'].apply(clean_list)\n",
    "\n",
    "# Clean customer_number field\n",
    "def clean_customer_number(val):\n",
    "    if pd.isnull(val):\n",
    "        return ''\n",
    "    val = str(val).strip()\n",
    "    if val.endswith('.0'):\n",
    "        val = val[:-2]\n",
    "    val = re.sub(r'[^A-Za-z0-9_]', '_', val)  # Replace unwanted chars with underscore\n",
    "    return val\n",
    "\n",
    "df['customer_number_clean'] = df['customer_number'].apply(clean_customer_number)\n",
    "\n",
    "# Explode the lists into rows\n",
    "exploded = df.explode('my_column_split')\n",
    "\n",
    "# Create binary columns for each unique value\n",
    "dummies = pd.get_dummies(exploded['my_column_split'])\n",
    "\n",
    "# Group back to original rows by max (if any value is 1, keep 1)\n",
    "binary_df = dummies.groupby(exploded.index).max()\n",
    "\n",
    "# Create business and savings flags\n",
    "business_flags = {'A', 'B', 'C', 'D', 'E', 'X', 'F'}\n",
    "savings_flags = {'M', 'N', 'O', 'P'}\n",
    "\n",
    "binary_df['business'] = binary_df[list(business_flags & set(binary_df.columns))].any(axis=1).astype(int)\n",
    "binary_df['savings'] = binary_df[list(savings_flags & set(binary_df.columns))].any(axis=1).astype(int)\n",
    "\n",
    "# Concatenate with original DataFrame if needed\n",
    "result = pd.concat([df, binary_df], axis=1)\n",
    "\n",
    "result"
   ]
  }
 ],
 "metadata": {
  "kernelspec": {
   "display_name": "Python 3",
   "language": "python",
   "name": "python3"
  },
  "language_info": {
   "codemirror_mode": {
    "name": "ipython",
    "version": 3
   },
   "file_extension": ".py",
   "mimetype": "text/x-python",
   "name": "python",
   "nbconvert_exporter": "python",
   "pygments_lexer": "ipython3",
   "version": "3.12.0"
  }
 },
 "nbformat": 4,
 "nbformat_minor": 5
}
