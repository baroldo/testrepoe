{
 "cells": [
  {
   "cell_type": "code",
   "execution_count": null,
   "id": "99248155",
   "metadata": {},
   "outputs": [],
   "source": [
    "import pandas as pd\n",
    "\n",
    "# Example DataFrame\n",
    "df = pd.DataFrame({\n",
    "    'my_column': ['A;B', 'B;C', 'A', 'C;D', 'B']\n",
    "})\n",
    "\n",
    "# Split the column by ';' into lists\n",
    "df['my_column_split'] = df['my_column'].str.split(';')\n",
    "\n",
    "# Explode the lists into rows\n",
    "exploded = df.explode('my_column_split')\n",
    "\n",
    "# Create binary columns for each unique value\n",
    "dummies = pd.get_dummies(exploded['my_column_split'])\n",
    "\n",
    "# Group back to original rows by summing\n",
    "binary_df = dummies.groupby(exploded.index).sum()\n",
    "\n",
    "# Concatenate with original DataFrame if needed\n",
    "result = pd.concat([df, binary_df], axis=1)\n",
    "\n",
    "result"
   ]
  }
 ],
 "metadata": {
  "language_info": {
   "name": "python"
  }
 },
 "nbformat": 4,
 "nbformat_minor": 5
}
