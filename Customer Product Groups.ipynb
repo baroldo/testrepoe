{
 "cells": [
  {
   "cell_type": "code",
   "execution_count": null,
   "id": "1946900d",
   "metadata": {},
   "outputs": [],
   "source": [
    "# For each customer, check if their 'product' values are only 'xx', or both 'xx' and 'yy'\n",
    "def product_group_type(group):\n",
    "    unique_products = set(group)\n",
    "    if unique_products == {'xx'}:\n",
    "        return 'only_xx'\n",
    "    elif 'xx' in unique_products and 'yy' in unique_products:\n",
    "        return 'xx_and_yy'\n",
    "    else:\n",
    "        return"
   ]
  }
 ],
 "metadata": {
  "language_info": {
   "name": "python"
  }
 },
 "nbformat": 4,
 "nbformat_minor": 5
}
